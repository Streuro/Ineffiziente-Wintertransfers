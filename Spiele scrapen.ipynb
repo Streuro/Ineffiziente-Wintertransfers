{
 "cells": [
  {
   "cell_type": "markdown",
   "metadata": {},
   "source": [
    "## Einlesen aller Super-League-Spiele seit 2003 (seit Einführung des aktuellen Modus)"
   ]
  },
  {
   "cell_type": "code",
   "execution_count": 2,
   "metadata": {},
   "outputs": [],
   "source": [
    "import requests\n",
    "from bs4 import BeautifulSoup\n",
    "import pandas as pd\n",
    "import re\n",
    "import numpy as np\n",
    "from datetime import datetime\n",
    "from datetime import timedelta"
   ]
  },
  {
   "cell_type": "markdown",
   "metadata": {},
   "source": [
    "## Alle Spiele einlesen\n",
    "Auf \"transfermarkt.com\" mache ich Requests von allen Teams, die in den vergangenen 15 Jahren in der Super League spielten. Mit Beautifulsoup hole ich alle Daten heraus: Teams, Resultat, Zuschauer, Spielzeit, etc."
   ]
  },
  {
   "cell_type": "code",
   "execution_count": null,
   "metadata": {},
   "outputs": [],
   "source": [
    "total_spiele = []\n",
    "\n",
    "\n",
    "vereinsliste = [[\"neuchatel-xamax-fcs/spielplan/verein/9084\",\"Xamax\"],\n",
    "                [\"neuchatel-xamax/spielplan/verein/625\",\"Xamax\"], \n",
    "                [\"fc-luzern/spielplan/verein/434\",\"Luzern\"],\n",
    "                [\"fc-st-gallen-1879/spielplan/verein/257\",\"St.Gallen\"],\n",
    "                [\"fc-thun/spielplan/verein/938\",\"Thun\"],\n",
    "                [\"grasshopper-club-zurich/spielplan/verein/504\",\"Grasshoppers\"],\n",
    "                [\"fc-vaduz/spielplan/verein/163\",\"Vaduz\"],\n",
    "                [\"fc-basel-1893/spielplan/verein/26\",\"Basel\"],\n",
    "                [\"fc-zurich/spielplan/verein/260\",\"Zürich\"],\n",
    "                [\"bsc-young-boys/spielplan/verein/452\",\"Young Boys\"],\n",
    "                [\"fc-lausanne-sport/spielplan/verein/527\",\"Lausanne\"],\n",
    "                [\"servette-fc/spielplan/verein/61\",\"Servette\"],\n",
    "                [\"fc-sion/spielplan/verein/321\",\"Sion\"],\n",
    "                [\"ac-bellinzona/spielplan/verein/2047\",\"Bellinzona\"], \n",
    "                [\"fc-aarau/spielplan/verein/116\",\"Aarau\"],\n",
    "                [\"fc-lugano/spielplan/verein/2790\",\"Lugano\"], \n",
    "                [\"fc-schaffhausen/spielplan/verein/1277\",\"Schaffhausen\"],\n",
    "                [\"yverdon-sport-fc/spielplan/verein/322\",\"Yverdon\"],\n",
    "                [\"fc-wil-1900/spielplan/verein/850\",\"Wil\"]]\n",
    "\n",
    "\n",
    "for verein in vereinsliste:\n",
    "    \n",
    "    jahre = list(range(2003,2018))\n",
    "    for jahr in jahre:\n",
    "        soup = \"\"\n",
    "        spielliste = []\n",
    "        wettbewerb_art = []\n",
    "        allespiele = \"\"\n",
    "        \n",
    "        url = \"https://www.transfermarkt.ch/\" + verein [0]+ \"/plus/0?saison_id=\"+str(jahr)\n",
    "        headers = {'User-Agent': 'Mozilla/5.0 (Macintosh; Intel Mac OS X10_10_1) AppleWebKit/537.36 (KHTML, like Gecko) Chrome/39.0.2171.95 Safari/537.36'}\n",
    "        \n",
    "        r = requests.get(url, headers=headers)\n",
    "        print(url)\n",
    "        \n",
    "\n",
    "        soup = BeautifulSoup(r.text, 'html.parser')\n",
    "\n",
    "        wettbewerb_art = soup.find_all('div', {'class':'box'})\n",
    "\n",
    "        # Schlaufe, um alle Barragespiele auszuschliessen und nur die \"regulären\" Super-League-Spiele zu erhalten.\n",
    "        for i in range (0,len(wettbewerb_art)):\n",
    "            if \"Super League\" in wettbewerb_art[i].text and \"Spielsystem\" in wettbewerb_art[i].text and \"Barrage\" not in wettbewerb_art[i].text:\n",
    "                allespiele = wettbewerb_art[i].text\n",
    "                print(i)\n",
    "\n",
    "\n",
    "\n",
    "        spielliste = allespiele.split(\"\\t\\t\\t\\t\\t\\t\\t\\t\\n\\n\")\n",
    "        \n",
    "        for i in range(1,len(spielliste)): \n",
    "            spielliste[i] = spielliste[i].replace(\"So. \",\"Sun\")\n",
    "            spielliste[i] = spielliste[i].replace(\"Mo. \",\"Mon\")\n",
    "            spielliste[i] = spielliste[i].replace(\"Di. \",\"Tue\")\n",
    "            spielliste[i] = spielliste[i].replace(\"Mi. \",\"Wed\")\n",
    "            spielliste[i] = spielliste[i].replace(\"Do. \",\"Thu\")\n",
    "            spielliste[i] = spielliste[i].replace(\"Fr. \",\"Fri\")\n",
    "            spielliste[i] = spielliste[i].replace(\"Sa. \",\"Sat\")\n",
    "            spielliste[i] = spielliste[i].replace(\"\\xa0\\xa0\",\" \")\n",
    "\n",
    "        \n",
    "        #Schlaufe, um die einzelnen Werte (Teams, Resultat, etc.) herauszufiltern\n",
    "        \n",
    "        runde = 0\n",
    "        for spiel in spielliste:\n",
    "            if \".)\" in spiel:\n",
    "                spieldaten = spiel.split(\"\\n\")\n",
    "                tag = spieldaten[0][0:3]\n",
    "                datum = spieldaten[0].replace(\" \",\"\")[3:14]\n",
    "                zeit = spieldaten[1]\n",
    "                spielzeit = pd.to_datetime(tag + \" \" + datum + \" \" + zeit, format='%a %d.%m.%Y %H:%M')\n",
    "                heim = spieldaten[2]\n",
    "                if heim == \"H\":\n",
    "                    heimteam = verein[1]\n",
    "                    austeam = spieldaten[5][:-5]\n",
    "                    heimrang = spieldaten[3][1:2]\n",
    "                    ausrang = spieldaten[5][-3:-2]\n",
    "                elif heim == \"A\":\n",
    "                    heimteam = spieldaten[5][:-5]\n",
    "                    austeam = verein[1]\n",
    "                    heimrang = spieldaten[5][-3:-2]\n",
    "                    ausrang = spieldaten[3][1:2]\n",
    "\n",
    "                zuschauer = spieldaten[7].replace(\".\",\"\")\n",
    "                tore = spieldaten[8].replace(\" \",\"\").split(\":\")\n",
    "                tore_heim = tore[0]\n",
    "                tore_aus = tore[1]\n",
    "                saison = str(jahr)+\"/\"+str(jahr+1)\n",
    "                runde = runde + 1\n",
    "\n",
    "                mini_dict = {\"Saison\":saison,\n",
    "                             \"Runde\":runde,\n",
    "                            \"Tag\":tag,\n",
    "                            \"Datum\": datum,\n",
    "                            \"Zeit\" : zeit,\n",
    "                            \"Spielzeit\":spielzeit,\n",
    "                            \"Heimteam\": heimteam,\n",
    "                            \"Rang Heimteam\":heimrang,\n",
    "                            \"Auswärtsteam\": austeam,\n",
    "                            \"Rang Auswärtsteam\":ausrang,\n",
    "                            \"zuschauer\":zuschauer,\n",
    "                            \"tore_heim\":tore_heim,\n",
    "                            \"tore_aus\":tore_aus}\n",
    "\n",
    "                total_spiele.append(mini_dict)\n",
    "       \n"
   ]
  },
  {
   "cell_type": "markdown",
   "metadata": {},
   "source": [
    "## Spiel-Dataframe erstellen und speichern"
   ]
  },
  {
   "cell_type": "code",
   "execution_count": null,
   "metadata": {},
   "outputs": [],
   "source": [
    "df = pd.DataFrame(total_spiele)"
   ]
  },
  {
   "cell_type": "code",
   "execution_count": null,
   "metadata": {},
   "outputs": [],
   "source": [
    "df.to_csv('allespiele.csv')"
   ]
  },
  {
   "cell_type": "code",
   "execution_count": null,
   "metadata": {},
   "outputs": [],
   "source": [
    "df = pd.read_csv(\"allespiele.csv\")\n",
    "#pd.options.display.max_rows = 6000"
   ]
  },
  {
   "cell_type": "markdown",
   "metadata": {},
   "source": [
    "Da ich alle Spiele von jedem Team erfasst habe, sind die Spiele nun doppelt vorhanden. Dies werde ich ändern, muss dafür zunächst aber alle Teamnamen auf eine Schreibweise definieren:"
   ]
  },
  {
   "cell_type": "code",
   "execution_count": null,
   "metadata": {},
   "outputs": [],
   "source": [
    "def changename(elem):\n",
    "    \n",
    "    elem = elem.lower()\n",
    "    if 'basel' in elem:\n",
    "        return 'Basel'\n",
    "    if 'hoppers' in elem:\n",
    "        return 'Grasshoppers'\n",
    "    if 'wil' in elem:\n",
    "        return 'Wil'\n",
    "    if 'young' in elem:\n",
    "        return 'YB'\n",
    "    if 'st.gallen' in elem:\n",
    "        return 'St.Gallen'\n",
    "    if 'st. gallen' in elem:\n",
    "        return 'St.Gallen'\n",
    "    if 'zürich' in elem:\n",
    "        return 'Zürich'\n",
    "    if 'sion' in elem:\n",
    "        return 'Sion'\n",
    "    if 'servette' in elem:\n",
    "        return 'Servette'\n",
    "    if 'luzern' in elem:\n",
    "        return 'Luzern'\n",
    "    if 'thun' in elem:\n",
    "        return 'Thun'\n",
    "    if 'basel' in elem:\n",
    "        return 'Basel'\n",
    "    if 'aarau' in elem:\n",
    "        return 'Aarau'\n",
    "    if 'yverdon' in elem:\n",
    "        return 'Yverdon'\n",
    "    if 'xamax' in elem:\n",
    "        return 'Xamax'\n",
    "    if 'lausanne' in elem:\n",
    "        return 'Lausanne'\n",
    "    if 'bellinzona' in elem:\n",
    "        return 'Bellinzona'\n",
    "    if 'vaduz' in elem:\n",
    "        return 'Vaduz'\n",
    "    if 'lugano' in elem:\n",
    "        return 'Lugano'\n",
    "    if 'schaffhausen' in elem:\n",
    "        return 'Schaffhausen'\n",
    "    "
   ]
  },
  {
   "cell_type": "code",
   "execution_count": null,
   "metadata": {},
   "outputs": [],
   "source": [
    "df['Heimteam'] = df['Heimteam'].apply(changename)\n",
    "df['Auswärtsteam'] = df['Auswärtsteam'].apply(changename)"
   ]
  },
  {
   "cell_type": "markdown",
   "metadata": {},
   "source": [
    "Nun lasse ich die Duplikate (die doppelt erfassten Spiele) verschwinden"
   ]
  },
  {
   "cell_type": "code",
   "execution_count": null,
   "metadata": {},
   "outputs": [],
   "source": [
    "df = df.drop_duplicates(subset=['Heimteam', 'Auswärtsteam',\"Saison\",\"Spielzeit\"], keep=\"first\")"
   ]
  },
  {
   "cell_type": "markdown",
   "metadata": {},
   "source": [
    "Und speichere das ganze geputzte Dataframe"
   ]
  },
  {
   "cell_type": "code",
   "execution_count": null,
   "metadata": {},
   "outputs": [],
   "source": [
    "df.to_csv('allespiele_clean.csv')"
   ]
  },
  {
   "cell_type": "code",
   "execution_count": 3,
   "metadata": {},
   "outputs": [],
   "source": [
    "df = pd.read_csv(\"allespiele_clean.csv\")"
   ]
  },
  {
   "cell_type": "markdown",
   "metadata": {},
   "source": [
    "Um die Hinrunden- bzw. Rückrundenpunkte der Teams herauszufinden, muss ich zunächst berechnen, wieviele Punkte die Teams in jedem Spiel geholt haben. Das ist im df bisher nicht erfasst, sondern nur die Tore."
   ]
  },
  {
   "cell_type": "code",
   "execution_count": 13,
   "metadata": {},
   "outputs": [],
   "source": [
    "df[\"punkteaus\"] = 0\n",
    "df[\"punkteheim\"] = 0\n",
    "df['punkteaus'] = np.where((df['tore_aus'] > df['tore_heim']), df['punkteaus'] + 3, df[\"punkteaus\"])\n",
    "df['punkteheim'] = np.where((df['tore_heim'] > df['tore_aus']), df['punkteheim'] + 3, df[\"punkteheim\"])\n",
    "df['punkteaus'] = np.where((df['tore_aus'] == df['tore_heim']), df['punkteaus'] + 1, df[\"punkteaus\"])\n",
    "df['punkteheim'] = np.where((df['tore_aus'] == df['tore_heim']), df['punkteheim'] + 1, df[\"punkteheim\"])"
   ]
  },
  {
   "cell_type": "code",
   "execution_count": 14,
   "metadata": {},
   "outputs": [],
   "source": [
    "# Liste der Vereine erstellen, um später durch die Vereinsliste iterieren zu können\n",
    "teamliste = set(list(df['Heimteam']))"
   ]
  },
  {
   "cell_type": "code",
   "execution_count": 15,
   "metadata": {},
   "outputs": [],
   "source": [
    "#dito mit den Saisons\n",
    "alle_saisons = set(list(df['Saison']))"
   ]
  },
  {
   "cell_type": "markdown",
   "metadata": {},
   "source": [
    "Nun erstelle ich für jedes der Super-League-Teams der vergangenen 15 Jahre eine df-Spalte,... "
   ]
  },
  {
   "cell_type": "code",
   "execution_count": 16,
   "metadata": {},
   "outputs": [],
   "source": [
    "for team in teamliste:\n",
    "    df[team] = 0"
   ]
  },
  {
   "cell_type": "markdown",
   "metadata": {},
   "source": [
    "...um darin nun die erreichten Punkte pro Spiel einsetzen zu können"
   ]
  },
  {
   "cell_type": "code",
   "execution_count": 17,
   "metadata": {},
   "outputs": [],
   "source": [
    "for team in teamliste:\n",
    "    df[team] = np.where((df['Heimteam'] == team), df[team] + df['punkteheim'], df[team])\n",
    "    df[team] = np.where((df['Auswärtsteam'] == team), df[team] + df['punkteaus'], df[team])\n",
    "  "
   ]
  },
  {
   "cell_type": "markdown",
   "metadata": {},
   "source": [
    "Auch dieses abgeänderte Dataframe speichere ich ab, nachdem ich die Spiele zeitlich geordnet habe"
   ]
  },
  {
   "cell_type": "code",
   "execution_count": null,
   "metadata": {},
   "outputs": [],
   "source": [
    "df = df.sort_values('Spielzeit')\n",
    "df.to_csv('allespiele_punkte.csv')\n"
   ]
  }
 ],
 "metadata": {
  "kernelspec": {
   "display_name": "Python 3",
   "language": "python",
   "name": "python3"
  },
  "language_info": {
   "codemirror_mode": {
    "name": "ipython",
    "version": 3
   },
   "file_extension": ".py",
   "mimetype": "text/x-python",
   "name": "python",
   "nbconvert_exporter": "python",
   "pygments_lexer": "ipython3",
   "version": "3.7.0"
  }
 },
 "nbformat": 4,
 "nbformat_minor": 2
}
