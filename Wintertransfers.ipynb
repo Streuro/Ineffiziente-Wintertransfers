{
 "cells": [
  {
   "cell_type": "markdown",
   "metadata": {},
   "source": [
    "# Auswirkungen von Wintertransfers auf die Leistungen der Super-League-Teams seit 2005"
   ]
  },
  {
   "cell_type": "code",
   "execution_count": 2,
   "metadata": {},
   "outputs": [],
   "source": [
    "#Importieren aller nötigen Bibliotheken\n",
    "\n",
    "import requests\n",
    "from bs4 import BeautifulSoup\n",
    "import pandas as pd\n",
    "import re\n",
    "import numpy as np\n",
    "from datetime import datetime\n",
    "from datetime import timedelta"
   ]
  },
  {
   "cell_type": "markdown",
   "metadata": {},
   "source": [
    "## A) Einlesen aller Transferdaten seit 2005 in der Super League\n"
   ]
  },
  {
   "cell_type": "code",
   "execution_count": null,
   "metadata": {},
   "outputs": [],
   "source": [
    "alle_transfers = []   \n",
    "\n",
    "# Liste aller Vereine:\n",
    "\n",
    "url_liste = [[\"fc-luzern/transfers/verein/434/plus/0?saison_id=\",\"Luzern\"],\n",
    "             [\"neuchatel-xamax-fcs/transfers/verein/9084/plus/0?saison_id=\",\"Xamax\"],\n",
    "            [\"neuchatel-xamax/transfers/verein/625/plus/0?saison_id=\",\"Xamax\"],[\"fc-st-gallen-1879/transfers/verein/257/plus/0?saison_id=\",\"St.Gallen\"],\n",
    "             [\"fc-thun/transfers/verein/938/plus/0?saison_id=\",\"Thun\"],[\"grasshopper-club-zurich/transfers/verein/504/plus/0?saison_id=\",\"GC\"],\n",
    "             [\"fc-vaduz/transfers/verein/163/plus/0?saison_id=\",\"Vaduz\"],[\"fc-basel-1893/transfers/verein/26/plus/0?saison_id=\",\"Basel\"],\n",
    "             [\"fc-zurich/transfers/verein/260/plus/0?saison_id=\",\"Zürich\"],[\"bsc-young-boys/transfers/verein/452/plus/0?saison_id=\",\"YB\"],\n",
    "             [\"fc-lausanne-sport/transfers/verein/527/plus/0?saison_id=\",\"Lausanne\"],[\"servette-fc/transfers/verein/61/plus/0?saison_id=\",\"Servette\"],\n",
    "             [\"fc-sion/transfers/verein/321/plus/0?saison_id=\",\"Sion\"],[\"ac-bellinzona/transfers/verein/2047/plus/0?saison_id=\",\"Bellinzona\"], \n",
    "             [\"fc-aarau/transfers/verein/116/plus/0?saison_id=\",\"Aarau\"],[\"fc-lugano/transfers/verein/2790/plus/0?saison_id=\",\"Lugano\"], \n",
    "             [\"fc-schaffhausen/transfers/verein/1277/plus/0?saison_id=\",\"Schaffhausen\"],[\"yverdon-sport-fc/transfers/verein/322/plus/0?saison_id=\",\"Yverdon\"],\n",
    "             [\"fc-wil-1900/transfers/verein/850/plus/0?saison_id=\",\"Wil\"]]\n",
    "\n",
    "# durch die Liste mit urls und die Saisons iterieren, Daten scrapen:\n",
    "\n",
    "for url in url_liste:\n",
    "    for jahr in range(2005,2018):\n",
    "        headers = {'User-Agent': 'Mozilla/5.0 (Macintosh; Intel Mac OS X10_10_1) AppleWebKit/537.36 (KHTML, like Gecko) Chrome/39.0.2171.95 Safari/537.36'}\n",
    "        webseite = \"https://www.transfermarkt.ch/\" + url[0] + str(jahr) + \"&pos=&detailpos=&w_s=w\"\n",
    "        r = requests.get(webseite, headers=headers)\n",
    "        print(webseite) # um Scrapevorgang nachverfolgen zu können, drucke ich die bearbeitete url aus\n",
    "        \n",
    "        # html-code der url auslesen:\n",
    "        soup = BeautifulSoup(r.text, 'html.parser') \n",
    "        \n",
    "        # ich zähle die Transferanzahl pro Team, um auch diese ins Verhältnis zum Erfolg zu setzen        \n",
    "        box_suppen1 = soup.find_all('td', {'rowspan':'2'}) \n",
    "        anzahlwintertransfers = len(box_suppen1) / 2\n",
    "        \n",
    "        # Wertezunahme (winterein) und Werteverlust (winteraus) scrapen\n",
    "        box_suppen = soup.find_all('td', {'colspan':'6'})\n",
    "        try:\n",
    "            winterein = box_suppen[2].text.split(\": \")[1][:-7]\n",
    "            if \",\" in winterein:\n",
    "                winterein = winterein + \"0\"    # Mio-Beträge in Tausender umrechnen, z.B. 12,40 (Mio) wird zu 12400\n",
    "                winterein = re.sub(',', '', winterein)\n",
    "            winteraus = box_suppen[5].text.split(\": \")[1][:-7]\n",
    "            if \",\" in winteraus:\n",
    "                winteraus = winteraus + \"0\"    # Mio-Beträge in Tausender umrechnen\n",
    "                winteraus = re.sub(',', '', winteraus)\n",
    "        except: continue  # wenn keine Transfer getätigt wurden, gehe weiter\n",
    "            \n",
    "        \n",
    "        # exakt dasselbe wie oben mache ich nun auch noch mit den Sommertransfers:\n",
    "        \n",
    "        headers = {'User-Agent': 'Mozilla/5.0 (Macintosh; Intel Mac OS X10_10_1) AppleWebKit/537.36 (KHTML, like Gecko) Chrome/39.0.2171.95 Safari/537.36'}\n",
    "        webseite = \"https://www.transfermarkt.ch/\" + url[0] + str(jahr) + \"&pos=&detailpos=&w_s=s\"\n",
    "        r = requests.get(webseite, headers=headers)\n",
    "        print(webseite)\n",
    "        soup = BeautifulSoup(r.text, 'html.parser')\n",
    "        \n",
    "        box_suppen1 = soup.find_all('td', {'rowspan':'2'})\n",
    "        anzahlsommertransfers = len(box_suppen1) / 2\n",
    "        \n",
    "        \n",
    "        box_suppen = soup.find_all('td', {'colspan':'6'})\n",
    "        try:\n",
    "            sommerein = box_suppen[2].text.split(\": \")[1][:-7]\n",
    "            if \",\" in sommerein:\n",
    "                sommerein = sommerein + \"0\"\n",
    "                sommerein = re.sub(',', '', sommerein)\n",
    "            sommeraus = box_suppen[5].text.split(\": \")[1][:-7]\n",
    "            if \",\" in sommeraus:\n",
    "                sommeraus = sommeraus + \"0\"\n",
    "                sommeraus = re.sub(',', '', sommeraus)\n",
    "        except: continue   # wenn keine Transfer getätigt wurden, gehe weiter\n",
    "            \n",
    "            \n",
    "        # gescrapte Daten in ein Dictionary abspeichern\n",
    "        \n",
    "        mini_dict = {\"Team\": url[1],\n",
    "                    \"Saison\": jahr,\n",
    "                    \"Winteraus\": winteraus,\n",
    "                    \"Winterein\": winterein,\n",
    "                    \"Sommeraus\": sommeraus,\n",
    "                    \"Sommerein\": sommerein,\n",
    "                    \"Anzahlwintertransfers\" : anzahlwintertransfers,\n",
    "                    \"Anzahlsommertransfers\" : anzahlsommertransfers}\n",
    "\n",
    "        alle_transfers.append(mini_dict)\n",
    "        winteraus = \"0\"\n",
    "        sommeraus = \"0\"\n",
    "        winterein = \"0\"\n",
    "        sommerein = \"0\""
   ]
  },
  {
   "cell_type": "code",
   "execution_count": 179,
   "metadata": {},
   "outputs": [],
   "source": [
    "# Dataframe aus den gescrapten Daten herstellen und abspeichern\n",
    "df = pd.DataFrame(alle_transfers)\n",
    "\n",
    "df.to_csv('alletransfers_sl.csv')"
   ]
  },
  {
   "cell_type": "code",
   "execution_count": null,
   "metadata": {},
   "outputs": [],
   "source": [
    "# und wieder von der Datei laden\n",
    "\n",
    "dft = pd.read_csv(\"alletransfers_sl.csv\")\n",
    "dft.head(3)"
   ]
  },
  {
   "cell_type": "code",
   "execution_count": 4,
   "metadata": {},
   "outputs": [],
   "source": [
    "# aus GC mache Grasshoppers\n",
    "\n",
    "def grasshoppers_macher(team):\n",
    "    if team == \"GC\":\n",
    "        team = \"Grasshoppers\"\n",
    "    return team\n",
    "\n",
    "dft['Team'] = dft['Team'].apply(grasshoppers_macher)"
   ]
  },
  {
   "cell_type": "markdown",
   "metadata": {},
   "source": [
    "## Spieldaten einlesen"
   ]
  },
  {
   "cell_type": "markdown",
   "metadata": {},
   "source": [
    "Von einem bereits erstellten Notebook (Projekt Datenerhebung Zuschauerzahlen) lese \n",
    "ich nun alle Resultate der vergangenen 15 Super-League-Saisons ein."
   ]
  },
  {
   "cell_type": "code",
   "execution_count": 6,
   "metadata": {},
   "outputs": [],
   "source": [
    "dfs = pd.read_csv(\"allespiele_punkte.csv\")"
   ]
  },
  {
   "cell_type": "code",
   "execution_count": 7,
   "metadata": {},
   "outputs": [],
   "source": [
    "teamliste = set(list(dfs['Heimteam']))\n",
    "jahre = set(list(dft[\"Saison\"]))"
   ]
  },
  {
   "cell_type": "code",
   "execution_count": 8,
   "metadata": {},
   "outputs": [
    {
     "data": {
      "text/html": [
       "<div>\n",
       "<style scoped>\n",
       "    .dataframe tbody tr th:only-of-type {\n",
       "        vertical-align: middle;\n",
       "    }\n",
       "\n",
       "    .dataframe tbody tr th {\n",
       "        vertical-align: top;\n",
       "    }\n",
       "\n",
       "    .dataframe thead th {\n",
       "        text-align: right;\n",
       "    }\n",
       "</style>\n",
       "<table border=\"1\" class=\"dataframe\">\n",
       "  <thead>\n",
       "    <tr style=\"text-align: right;\">\n",
       "      <th></th>\n",
       "      <th>Unnamed: 0</th>\n",
       "      <th>Unnamed: 0.1</th>\n",
       "      <th>Unnamed: 0.1.1</th>\n",
       "      <th>Auswärtsteam</th>\n",
       "      <th>Datum</th>\n",
       "      <th>Heimteam</th>\n",
       "      <th>Rang Auswärtsteam</th>\n",
       "      <th>Rang Heimteam</th>\n",
       "      <th>Runde</th>\n",
       "      <th>Saison</th>\n",
       "      <th>...</th>\n",
       "      <th>Luzern</th>\n",
       "      <th>Zürich</th>\n",
       "      <th>Bellinzona</th>\n",
       "      <th>YB</th>\n",
       "      <th>Vaduz</th>\n",
       "      <th>Xamax</th>\n",
       "      <th>Lugano</th>\n",
       "      <th>St.Gallen</th>\n",
       "      <th>Schaffhausen</th>\n",
       "      <th>Yverdon</th>\n",
       "    </tr>\n",
       "  </thead>\n",
       "  <tbody>\n",
       "    <tr>\n",
       "      <th>0</th>\n",
       "      <td>0</td>\n",
       "      <td>0</td>\n",
       "      <td>0</td>\n",
       "      <td>Xamax</td>\n",
       "      <td>16.07.2003</td>\n",
       "      <td>Grasshoppers</td>\n",
       "      <td>9</td>\n",
       "      <td>7</td>\n",
       "      <td>1</td>\n",
       "      <td>2003/2004</td>\n",
       "      <td>...</td>\n",
       "      <td>NaN</td>\n",
       "      <td>NaN</td>\n",
       "      <td>NaN</td>\n",
       "      <td>NaN</td>\n",
       "      <td>NaN</td>\n",
       "      <td>3.0</td>\n",
       "      <td>NaN</td>\n",
       "      <td>NaN</td>\n",
       "      <td>NaN</td>\n",
       "      <td>NaN</td>\n",
       "    </tr>\n",
       "    <tr>\n",
       "      <th>1</th>\n",
       "      <td>1082</td>\n",
       "      <td>1164</td>\n",
       "      <td>1164</td>\n",
       "      <td>Aarau</td>\n",
       "      <td>16.07.2003</td>\n",
       "      <td>Thun</td>\n",
       "      <td>8</td>\n",
       "      <td>6</td>\n",
       "      <td>1</td>\n",
       "      <td>2003/2004</td>\n",
       "      <td>...</td>\n",
       "      <td>NaN</td>\n",
       "      <td>NaN</td>\n",
       "      <td>NaN</td>\n",
       "      <td>NaN</td>\n",
       "      <td>NaN</td>\n",
       "      <td>NaN</td>\n",
       "      <td>NaN</td>\n",
       "      <td>NaN</td>\n",
       "      <td>NaN</td>\n",
       "      <td>NaN</td>\n",
       "    </tr>\n",
       "    <tr>\n",
       "      <th>2</th>\n",
       "      <td>1874</td>\n",
       "      <td>2308</td>\n",
       "      <td>2308</td>\n",
       "      <td>Zürich</td>\n",
       "      <td>16.07.2003</td>\n",
       "      <td>Basel</td>\n",
       "      <td>4</td>\n",
       "      <td>1</td>\n",
       "      <td>1</td>\n",
       "      <td>2003/2004</td>\n",
       "      <td>...</td>\n",
       "      <td>NaN</td>\n",
       "      <td>0.0</td>\n",
       "      <td>NaN</td>\n",
       "      <td>NaN</td>\n",
       "      <td>NaN</td>\n",
       "      <td>NaN</td>\n",
       "      <td>NaN</td>\n",
       "      <td>NaN</td>\n",
       "      <td>NaN</td>\n",
       "      <td>NaN</td>\n",
       "    </tr>\n",
       "    <tr>\n",
       "      <th>3</th>\n",
       "      <td>2560</td>\n",
       "      <td>4058</td>\n",
       "      <td>4058</td>\n",
       "      <td>Wil</td>\n",
       "      <td>16.07.2003</td>\n",
       "      <td>Servette</td>\n",
       "      <td>0</td>\n",
       "      <td>3</td>\n",
       "      <td>1</td>\n",
       "      <td>2003/2004</td>\n",
       "      <td>...</td>\n",
       "      <td>NaN</td>\n",
       "      <td>NaN</td>\n",
       "      <td>NaN</td>\n",
       "      <td>NaN</td>\n",
       "      <td>NaN</td>\n",
       "      <td>NaN</td>\n",
       "      <td>NaN</td>\n",
       "      <td>NaN</td>\n",
       "      <td>NaN</td>\n",
       "      <td>NaN</td>\n",
       "    </tr>\n",
       "    <tr>\n",
       "      <th>4</th>\n",
       "      <td>680</td>\n",
       "      <td>698</td>\n",
       "      <td>698</td>\n",
       "      <td>YB</td>\n",
       "      <td>16.07.2003</td>\n",
       "      <td>St.Gallen</td>\n",
       "      <td>2</td>\n",
       "      <td>5</td>\n",
       "      <td>1</td>\n",
       "      <td>2003/2004</td>\n",
       "      <td>...</td>\n",
       "      <td>NaN</td>\n",
       "      <td>NaN</td>\n",
       "      <td>NaN</td>\n",
       "      <td>3.0</td>\n",
       "      <td>NaN</td>\n",
       "      <td>NaN</td>\n",
       "      <td>NaN</td>\n",
       "      <td>0.0</td>\n",
       "      <td>NaN</td>\n",
       "      <td>NaN</td>\n",
       "    </tr>\n",
       "    <tr>\n",
       "      <th>5</th>\n",
       "      <td>1</td>\n",
       "      <td>1</td>\n",
       "      <td>1</td>\n",
       "      <td>St.Gallen</td>\n",
       "      <td>19.07.2003</td>\n",
       "      <td>Xamax</td>\n",
       "      <td>0</td>\n",
       "      <td>4</td>\n",
       "      <td>2</td>\n",
       "      <td>2003/2004</td>\n",
       "      <td>...</td>\n",
       "      <td>NaN</td>\n",
       "      <td>NaN</td>\n",
       "      <td>NaN</td>\n",
       "      <td>NaN</td>\n",
       "      <td>NaN</td>\n",
       "      <td>6.0</td>\n",
       "      <td>NaN</td>\n",
       "      <td>0.0</td>\n",
       "      <td>NaN</td>\n",
       "      <td>NaN</td>\n",
       "    </tr>\n",
       "    <tr>\n",
       "      <th>6</th>\n",
       "      <td>1436</td>\n",
       "      <td>1629</td>\n",
       "      <td>1629</td>\n",
       "      <td>Grasshoppers</td>\n",
       "      <td>19.07.2003</td>\n",
       "      <td>Aarau</td>\n",
       "      <td>8</td>\n",
       "      <td>5</td>\n",
       "      <td>2</td>\n",
       "      <td>2003/2004</td>\n",
       "      <td>...</td>\n",
       "      <td>NaN</td>\n",
       "      <td>NaN</td>\n",
       "      <td>NaN</td>\n",
       "      <td>NaN</td>\n",
       "      <td>NaN</td>\n",
       "      <td>NaN</td>\n",
       "      <td>NaN</td>\n",
       "      <td>NaN</td>\n",
       "      <td>NaN</td>\n",
       "      <td>NaN</td>\n",
       "    </tr>\n",
       "    <tr>\n",
       "      <th>7</th>\n",
       "      <td>2152</td>\n",
       "      <td>2845</td>\n",
       "      <td>2845</td>\n",
       "      <td>Servette</td>\n",
       "      <td>19.07.2003</td>\n",
       "      <td>Zürich</td>\n",
       "      <td>2</td>\n",
       "      <td>7</td>\n",
       "      <td>2</td>\n",
       "      <td>2003/2004</td>\n",
       "      <td>...</td>\n",
       "      <td>NaN</td>\n",
       "      <td>0.0</td>\n",
       "      <td>NaN</td>\n",
       "      <td>NaN</td>\n",
       "      <td>NaN</td>\n",
       "      <td>NaN</td>\n",
       "      <td>NaN</td>\n",
       "      <td>NaN</td>\n",
       "      <td>NaN</td>\n",
       "      <td>NaN</td>\n",
       "    </tr>\n",
       "    <tr>\n",
       "      <th>8</th>\n",
       "      <td>1875</td>\n",
       "      <td>2309</td>\n",
       "      <td>2309</td>\n",
       "      <td>Basel</td>\n",
       "      <td>22.07.2003</td>\n",
       "      <td>YB</td>\n",
       "      <td>3</td>\n",
       "      <td>1</td>\n",
       "      <td>2</td>\n",
       "      <td>2003/2004</td>\n",
       "      <td>...</td>\n",
       "      <td>NaN</td>\n",
       "      <td>NaN</td>\n",
       "      <td>NaN</td>\n",
       "      <td>3.0</td>\n",
       "      <td>NaN</td>\n",
       "      <td>NaN</td>\n",
       "      <td>NaN</td>\n",
       "      <td>NaN</td>\n",
       "      <td>NaN</td>\n",
       "      <td>NaN</td>\n",
       "    </tr>\n",
       "    <tr>\n",
       "      <th>9</th>\n",
       "      <td>1083</td>\n",
       "      <td>1165</td>\n",
       "      <td>1165</td>\n",
       "      <td>Thun</td>\n",
       "      <td>22.07.2003</td>\n",
       "      <td>Wil</td>\n",
       "      <td>6</td>\n",
       "      <td>9</td>\n",
       "      <td>2</td>\n",
       "      <td>2003/2004</td>\n",
       "      <td>...</td>\n",
       "      <td>NaN</td>\n",
       "      <td>NaN</td>\n",
       "      <td>NaN</td>\n",
       "      <td>NaN</td>\n",
       "      <td>NaN</td>\n",
       "      <td>NaN</td>\n",
       "      <td>NaN</td>\n",
       "      <td>NaN</td>\n",
       "      <td>NaN</td>\n",
       "      <td>NaN</td>\n",
       "    </tr>\n",
       "  </tbody>\n",
       "</table>\n",
       "<p>10 rows × 36 columns</p>\n",
       "</div>"
      ],
      "text/plain": [
       "   Unnamed: 0  Unnamed: 0.1  Unnamed: 0.1.1  Auswärtsteam       Datum  \\\n",
       "0           0             0               0         Xamax  16.07.2003   \n",
       "1        1082          1164            1164         Aarau  16.07.2003   \n",
       "2        1874          2308            2308        Zürich  16.07.2003   \n",
       "3        2560          4058            4058           Wil  16.07.2003   \n",
       "4         680           698             698            YB  16.07.2003   \n",
       "5           1             1               1     St.Gallen  19.07.2003   \n",
       "6        1436          1629            1629  Grasshoppers  19.07.2003   \n",
       "7        2152          2845            2845      Servette  19.07.2003   \n",
       "8        1875          2309            2309         Basel  22.07.2003   \n",
       "9        1083          1165            1165          Thun  22.07.2003   \n",
       "\n",
       "       Heimteam  Rang Auswärtsteam  Rang Heimteam  Runde     Saison   ...     \\\n",
       "0  Grasshoppers                  9              7      1  2003/2004   ...      \n",
       "1          Thun                  8              6      1  2003/2004   ...      \n",
       "2         Basel                  4              1      1  2003/2004   ...      \n",
       "3      Servette                  0              3      1  2003/2004   ...      \n",
       "4     St.Gallen                  2              5      1  2003/2004   ...      \n",
       "5         Xamax                  0              4      2  2003/2004   ...      \n",
       "6         Aarau                  8              5      2  2003/2004   ...      \n",
       "7        Zürich                  2              7      2  2003/2004   ...      \n",
       "8            YB                  3              1      2  2003/2004   ...      \n",
       "9           Wil                  6              9      2  2003/2004   ...      \n",
       "\n",
       "  Luzern Zürich Bellinzona   YB  Vaduz  Xamax  Lugano  St.Gallen  \\\n",
       "0    NaN    NaN        NaN  NaN    NaN    3.0     NaN        NaN   \n",
       "1    NaN    NaN        NaN  NaN    NaN    NaN     NaN        NaN   \n",
       "2    NaN    0.0        NaN  NaN    NaN    NaN     NaN        NaN   \n",
       "3    NaN    NaN        NaN  NaN    NaN    NaN     NaN        NaN   \n",
       "4    NaN    NaN        NaN  3.0    NaN    NaN     NaN        0.0   \n",
       "5    NaN    NaN        NaN  NaN    NaN    6.0     NaN        0.0   \n",
       "6    NaN    NaN        NaN  NaN    NaN    NaN     NaN        NaN   \n",
       "7    NaN    0.0        NaN  NaN    NaN    NaN     NaN        NaN   \n",
       "8    NaN    NaN        NaN  3.0    NaN    NaN     NaN        NaN   \n",
       "9    NaN    NaN        NaN  NaN    NaN    NaN     NaN        NaN   \n",
       "\n",
       "   Schaffhausen  Yverdon  \n",
       "0           NaN      NaN  \n",
       "1           NaN      NaN  \n",
       "2           NaN      NaN  \n",
       "3           NaN      NaN  \n",
       "4           NaN      NaN  \n",
       "5           NaN      NaN  \n",
       "6           NaN      NaN  \n",
       "7           NaN      NaN  \n",
       "8           NaN      NaN  \n",
       "9           NaN      NaN  \n",
       "\n",
       "[10 rows x 36 columns]"
      ]
     },
     "execution_count": 8,
     "metadata": {},
     "output_type": "execute_result"
    }
   ],
   "source": [
    "# im Spiel-Datensatz lasse ich immer die pro Team geholten Punkte der vergangenen 18 Spiele zusammenzählen\n",
    "# so kann ich in einem nächsten Schritt Hin- und Rückrundenpunkte ausrechnen\n",
    "\n",
    "for team in teamliste:\n",
    "    dfs[team] = dfs[(dfs[\"Heimteam\"] == team) | (dfs[\"Auswärtsteam\"] == team)][team].rolling(min_periods=1, window=18).sum()\n",
    "    \n",
    "    \n",
    "dfs.head(10)"
   ]
  },
  {
   "cell_type": "markdown",
   "metadata": {},
   "source": [
    "## Zusammenführen von Transferdaten und Spieldaten\n",
    "Nun, nachdem ich die beiden Datensätze (Transfers und Spiele/Punkte) eingelesen habe, \n",
    "ergänze ich den Transfer-Datensatz mit den Hin- und Rückrunden-Punkten der jeweiligen Teams.\n",
    "So kann danach die Erfolgsveränderung von Hin- zu Rückrunde mit den Wintertransfers \n",
    "verglichen werden."
   ]
  },
  {
   "cell_type": "code",
   "execution_count": 9,
   "metadata": {},
   "outputs": [],
   "source": [
    "dft[\"Hinrundenpunkte\"] = 0\n",
    "dft[\"Rückrundenpunkte\"] = 0\n",
    "\n",
    "# für alle Teams und alle Saisons werden.....\n",
    "for team in teamliste:\n",
    "    for jahr in jahre:\n",
    "        saison = str(jahr) + \"/\" + str(jahr+1)\n",
    "        \n",
    "        #.....aus dem Spiel-Datensatz die Hin- und Rückrundenpunkte ausgelesen....\n",
    "        # sind die Teams nicht in der Spielliste (except), waren sie in jener Saison nicht in der Super League\n",
    "        try:\n",
    "            hinrundenpunkte = dfs[((dfs[\"Heimteam\"] == team) | (dfs[\"Auswärtsteam\"] == team)) & (dfs[\"Runde\"] == 18) & (dfs[\"Saison\"] == saison)][team].values[0]\n",
    "        except: continue\n",
    "        try:   \n",
    "            rückrundenpunkte = dfs[((dfs[\"Heimteam\"] == team) | (dfs[\"Auswärtsteam\"] == team)) & (dfs[\"Runde\"] == 36) & (dfs[\"Saison\"] == saison)][team].values[0]\n",
    "        except: \n",
    "            try: rückrundenpunkte = dfs[((dfs[\"Heimteam\"] == team) | (dfs[\"Auswärtsteam\"] == team)) & (dfs[\"Runde\"] == 34) & (dfs[\"Saison\"] == saison)][team].values[0]\n",
    "            except: continue\n",
    "                \n",
    "        #....und in den Transfers-Datensatz eingefügt\n",
    "        \n",
    "        dft.loc[(dft[\"Team\"] == team) & (dft[\"Saison\"] == jahr), \"Hinrundenpunkte\"] = hinrundenpunkte\n",
    "        dft.loc[(dft[\"Team\"] == team) & (dft[\"Saison\"] == jahr), \"Rückrundenpunkte\"] = rückrundenpunkte\n",
    "\n",
    "        \n",
    "        \n",
    "        \n",
    "        \n",
    "        "
   ]
  },
  {
   "cell_type": "code",
   "execution_count": 10,
   "metadata": {},
   "outputs": [],
   "source": [
    "dft = dft[dft.Rückrundenpunkte != 0]   \n",
    "# nur jene Saisons der Teams in der Liste lassen, in der die Teams auch in der SL spielten "
   ]
  },
  {
   "cell_type": "code",
   "execution_count": null,
   "metadata": {},
   "outputs": [],
   "source": [
    "# ich füge eine weitere Spalte ein: Die Punkte der vorherigen Rückrunde. Damit kann ich auch die Sommertransfers \n",
    "# auf ihre Effektivität prüfen \n",
    "\n",
    "dft[\"vorherige_rückrundenpunkte\"] = 0\n",
    "for team in teamliste:\n",
    "    for jahr in jahre:\n",
    "        try:\n",
    "            dft.loc[(dft[\"Team\"] == team) & (dft[\"Saison\"] == jahr), \"vorherige_rückrundenpunkte\"] = dft[(dft[\"Team\"] == team) & (dft[\"Saison\"] == jahr-1)][\"Rückrundenpunkte\"].values[0]\n",
    "        except: continue \n",
    "            \n",
    "            \n",
    "            "
   ]
  },
  {
   "cell_type": "code",
   "execution_count": null,
   "metadata": {},
   "outputs": [],
   "source": [
    "#in der Rückrunde, als Xamax ausfiel (2011/12), müssen für alle anderen Teams Punkte \n",
    "#gleichmässig verteilt werden, damit es insgesamt keine Ungenauigkeiten gibt\n",
    "\n",
    "\n",
    "dft.loc[dft[\"Saison\"] == 2011, \"Rückrundenpunkte\"] = (dft[dft[\"Saison\"] == 2011][\"Rückrundenpunkte\"].values[0]) + 3\n",
    "\n",
    "\n"
   ]
  },
  {
   "cell_type": "code",
   "execution_count": 13,
   "metadata": {},
   "outputs": [],
   "source": [
    "dft = dft.replace([np.inf, - np.inf], 0)\n",
    "# Daten reinigen"
   ]
  },
  {
   "cell_type": "code",
   "execution_count": 14,
   "metadata": {},
   "outputs": [],
   "source": [
    "#Winter- und Sommerzuwachs an Punkten: Wurde die Rückrunde besser/schlechter als die Hinrunde? \n",
    "\n",
    "dft[\"winterzuwachs\"] = dft[\"Winterein\"] - dft[\"Winteraus\"]\n",
    "dft[\"Punktezuwachs\"] = dft[\"Rückrundenpunkte\"] - dft[\"Hinrundenpunkte\"]\n",
    "dft[\"Sommerzuwachs\"] = dft[\"Sommerein\"] - dft[\"Sommeraus\"]\n",
    "dft[\"Punktezuwachs_Sommer\"] = dft[\"Hinrundenpunkte\"] - dft[\"vorherige_rückrundenpunkte\"]\n"
   ]
  },
  {
   "cell_type": "markdown",
   "metadata": {},
   "source": [
    "# Daten auswerten\n",
    "Zusammenhänge in den Daten finden\n",
    "\n",
    "## 1) hat die Anzahl Wechsel im Winter einen Einfluss auf den Erfolg der Teams in der Rückrunde?"
   ]
  },
  {
   "cell_type": "code",
   "execution_count": 16,
   "metadata": {},
   "outputs": [
    {
     "data": {
      "text/plain": [
       "<matplotlib.axes._subplots.AxesSubplot at 0x11ef10390>"
      ]
     },
     "execution_count": 16,
     "metadata": {},
     "output_type": "execute_result"
    },
    {
     "data": {
      "image/png": "[encoded data removed]",
      "text/plain": [
       "<Figure size 1080x720 with 1 Axes>"
      ]
     },
     "metadata": {
      "needs_background": "light"
     },
     "output_type": "display_data"
    }
   ],
   "source": [
    "dft.plot(x='Anzahlwintertransfers', y='Punktezuwachs', kind='scatter', figsize=(15,10))"
   ]
  },
  {
   "cell_type": "markdown",
   "metadata": {},
   "source": [
    "In der obigen Grafik zeigt sich keine deutliche Tendenz. Ohnehin muss die Aussagekraft der Anzahl der Transfers relativiert werden. Oft werden im Winter einfach Nachwuchsspieler aus den eigenen Reihen ins Trainingskader integriert. Oder es kehren Leihspieler zurück, die aber gleich wieder ausgeliehen werden. Auf Transfermakrt erscheinen alle diese Transfers - sie sind aber nicht relevant, was den Einfluss auf den Charkter eines Clubs angeht. Interessanter sind deshalb die Transfersummen. Wo wertvolle Spieler verlorengehen bzw. dazukommen, ist ein substanzieller Einfluss auf das Team wahrscheinlicher. Deshalb:\n",
    "\n",
    "## 2) hat die Wertezu- oder abnahme einen Einfluss auf den Erfolg der Teams in der Rückrunde?"
   ]
  },
  {
   "cell_type": "code",
   "execution_count": 17,
   "metadata": {},
   "outputs": [
    {
     "data": {
      "text/plain": [
       "<matplotlib.axes._subplots.AxesSubplot at 0x11f530080>"
      ]
     },
     "execution_count": 17,
     "metadata": {},
     "output_type": "execute_result"
    },
    {
     "data": {
      "image/png": "[encoded data removed]",
      "text/plain": [
       "<Figure size 1080x720 with 1 Axes>"
      ]
     },
     "metadata": {
      "needs_background": "light"
     },
     "output_type": "display_data"
    }
   ],
   "source": [
    "dft.plot(x='winterzuwachs', y='Punktezuwachs', kind='scatter', figsize=(15,10))"
   ]
  },
  {
   "cell_type": "markdown",
   "metadata": {},
   "source": [
    "In der obigen Grafik würde man gemeinhin annehmen, dass die Punkte in der Tendenz von links unten nach rechts oben verlaufen: Je mehr Wert ein Team an Wert gewinnt, desto stärker müsste es doch werden in der Rückrunde. Eine solche Linie ist aber nicht zu erkennen. Im Gegenteil: Eine Tendenz lässt sich eher von rechts unten nach links oben ausmachen, zumindest sind rechts unten  am meisten Punkte zu finden: Dort sind jene Teams, die trotz Wertezuwachs an Leistung einbüssten.\n",
    "\n",
    "Das kann man auch in Zahlen ausrücken:"
   ]
  },
  {
   "cell_type": "code",
   "execution_count": 28,
   "metadata": {},
   "outputs": [
    {
     "data": {
      "text/plain": [
       "35"
      ]
     },
     "execution_count": 28,
     "metadata": {},
     "output_type": "execute_result"
    }
   ],
   "source": [
    "dft_rechtsunten = dft[(dft[\"winterzuwachs\"] >= 0) & (dft[\"Punktezuwachs\"] < 0)]\n",
    "dft_rechtsunten[\"Team\"].size\n",
    "#rechtsunten gibt's 35 Fälle (teurer, aber weniger erfolgreich)"
   ]
  },
  {
   "cell_type": "code",
   "execution_count": 30,
   "metadata": {},
   "outputs": [
    {
     "data": {
      "text/plain": [
       "30"
      ]
     },
     "execution_count": 30,
     "metadata": {},
     "output_type": "execute_result"
    }
   ],
   "source": [
    "dft_linksunten = dft[(dft[\"winterzuwachs\"] < 0) & (dft[\"Punktezuwachs\"] < 0)]\n",
    "dft_linksunten[\"Team\"].size\n",
    "#linksunten gibt's 30 Fälle (weniger teuer und weniger erfolgreich)"
   ]
  },
  {
   "cell_type": "code",
   "execution_count": 31,
   "metadata": {},
   "outputs": [
    {
     "data": {
      "text/plain": [
       "37"
      ]
     },
     "execution_count": 31,
     "metadata": {},
     "output_type": "execute_result"
    }
   ],
   "source": [
    "dft_linksoben = dft[(dft[\"winterzuwachs\"] < 0) & (dft[\"Punktezuwachs\"] >= 0)]\n",
    "dft_linksoben[\"Team\"].size\n",
    "#linksoben gibt's 37 Fälle (weniger teuer und dennoch erfolgreich)"
   ]
  },
  {
   "cell_type": "code",
   "execution_count": 32,
   "metadata": {},
   "outputs": [
    {
     "data": {
      "text/plain": [
       "25"
      ]
     },
     "execution_count": 32,
     "metadata": {},
     "output_type": "execute_result"
    }
   ],
   "source": [
    "dft_rechtsoben = dft[(dft[\"winterzuwachs\"] >= 0) & (dft[\"Punktezuwachs\"] >= 0)]\n",
    "dft_rechtsoben[\"Team\"].size\n",
    "# nur 25 Fälle gibt's rechtsoben (teurer und erfolgreicher)"
   ]
  },
  {
   "cell_type": "markdown",
   "metadata": {},
   "source": [
    "Anders ausgedrückt: Von jenen 60 Teams, die im Winter an Wert zulegten, wurden 25 besser und 35 schlechter\n",
    "\n",
    "In einem Balkendiagramm zeigt sich ebenfalls in der Tendenz: Je mehr Geld investiert wurde, desto weniger Punkte holte man:"
   ]
  },
  {
   "cell_type": "code",
   "execution_count": 37,
   "metadata": {},
   "outputs": [
    {
     "data": {
      "text/plain": [
       "<matplotlib.axes._subplots.AxesSubplot at 0x1206d0940>"
      ]
     },
     "execution_count": 37,
     "metadata": {},
     "output_type": "execute_result"
    },
    {
     "data": {
      "image/png": "[encoded data removed]",
      "text/plain": [
       "<Figure size 576x288 with 1 Axes>"
      ]
     },
     "metadata": {
      "needs_background": "light"
     },
     "output_type": "display_data"
    }
   ],
   "source": [
    "dft[\"wertkategorie\"] = pd.cut(dft['winterzuwachs'], bins=7)\n",
    "dft.groupby (\"wertkategorie\")[\"Punktezuwachs\"].mean().plot(kind='bar', figsize=(8,4))"
   ]
  },
  {
   "cell_type": "markdown",
   "metadata": {},
   "source": [
    "Wer im Winter wertemässig zulegt, wird also nur im selteneren Fall erfolgreicher.\n",
    "\n",
    "## Wie sieht es bei Sommertransfers aus?"
   ]
  },
  {
   "cell_type": "code",
   "execution_count": 22,
   "metadata": {},
   "outputs": [
    {
     "data": {
      "text/plain": [
       "<matplotlib.axes._subplots.AxesSubplot at 0x120173978>"
      ]
     },
     "execution_count": 22,
     "metadata": {},
     "output_type": "execute_result"
    },
    {
     "data": {
      "image/png": "[encoded data removed]",
      "text/plain": [
       "<Figure size 1080x720 with 1 Axes>"
      ]
     },
     "metadata": {
      "needs_background": "light"
     },
     "output_type": "display_data"
    }
   ],
   "source": [
    "dft.plot(x='Sommerzuwachs', y='Punktezuwachs_Sommer', kind='scatter', figsize=(15,10))"
   ]
  },
  {
   "cell_type": "code",
   "execution_count": 36,
   "metadata": {},
   "outputs": [
    {
     "data": {
      "text/plain": [
       "<matplotlib.axes._subplots.AxesSubplot at 0x12031cf60>"
      ]
     },
     "execution_count": 36,
     "metadata": {},
     "output_type": "execute_result"
    },
    {
     "data": {
      "image/png": "[encoded data removed]",
      "text/plain": [
       "<Figure size 576x288 with 1 Axes>"
      ]
     },
     "metadata": {
      "needs_background": "light"
     },
     "output_type": "display_data"
    }
   ],
   "source": [
    "dft[\"wertkategorie\"] = pd.cut(dft['Sommerzuwachs'], bins=7)\n",
    "dft.groupby (\"wertkategorie\")[\"Punktezuwachs_Sommer\"].mean().plot(kind='bar', figsize=(8,4))"
   ]
  },
  {
   "cell_type": "markdown",
   "metadata": {},
   "source": [
    "Von links unten nach rechts oben: Hier stimmt die erwartete Tendenz. Unter dem Strich aber am auffallendsten: Wintertransfer-Wertezuwachs ist meist unproduktiv."
   ]
  },
  {
   "cell_type": "markdown",
   "metadata": {},
   "source": [
    "## Welches sind die im Winter unproduktivsten Teams? In welchen Saisons waren sie besonders unproduktiv?\n",
    "Es gibt acht Fälle, in denen Teams im Winter mehr als eine Million Euro an Wert gewannen, aber dennoch in der Rückrunde gegenüber der Hinrunde mehr als fünf Punkte verloren. Die Grasshoppers traf es vier Mal, St.Gallen zweimal:"
   ]
  },
  {
   "cell_type": "code",
   "execution_count": 219,
   "metadata": {},
   "outputs": [
    {
     "data": {
      "text/html": [
       "<div>\n",
       "<style scoped>\n",
       "    .dataframe tbody tr th:only-of-type {\n",
       "        vertical-align: middle;\n",
       "    }\n",
       "\n",
       "    .dataframe tbody tr th {\n",
       "        vertical-align: top;\n",
       "    }\n",
       "\n",
       "    .dataframe thead th {\n",
       "        text-align: right;\n",
       "    }\n",
       "</style>\n",
       "<table border=\"1\" class=\"dataframe\">\n",
       "  <thead>\n",
       "    <tr style=\"text-align: right;\">\n",
       "      <th></th>\n",
       "      <th>Unnamed: 0</th>\n",
       "      <th>Anzahlsommertransfers</th>\n",
       "      <th>Anzahlwintertransfers</th>\n",
       "      <th>Saison</th>\n",
       "      <th>Sommeraus</th>\n",
       "      <th>Sommerein</th>\n",
       "      <th>Team</th>\n",
       "      <th>Winteraus</th>\n",
       "      <th>Winterein</th>\n",
       "      <th>Hinrundenpunkte</th>\n",
       "      <th>Rückrundenpunkte</th>\n",
       "      <th>vorherige_rückrundenpunkte</th>\n",
       "      <th>winterzuwachs</th>\n",
       "      <th>Punktezuwachs</th>\n",
       "      <th>Sommerzuwachs</th>\n",
       "      <th>Punktezuwachs_Sommer</th>\n",
       "      <th>wertkategorie</th>\n",
       "    </tr>\n",
       "  </thead>\n",
       "  <tbody>\n",
       "    <tr>\n",
       "      <th>34</th>\n",
       "      <td>34</td>\n",
       "      <td>19.0</td>\n",
       "      <td>7.0</td>\n",
       "      <td>2012</td>\n",
       "      <td>1980</td>\n",
       "      <td>2300</td>\n",
       "      <td>St.Gallen</td>\n",
       "      <td>950</td>\n",
       "      <td>2000</td>\n",
       "      <td>33.0</td>\n",
       "      <td>26.0</td>\n",
       "      <td>0.0</td>\n",
       "      <td>1050</td>\n",
       "      <td>-7.0</td>\n",
       "      <td>320</td>\n",
       "      <td>33.0</td>\n",
       "      <td>(175.0, 420.833]</td>\n",
       "    </tr>\n",
       "    <tr>\n",
       "      <th>37</th>\n",
       "      <td>37</td>\n",
       "      <td>20.0</td>\n",
       "      <td>15.0</td>\n",
       "      <td>2015</td>\n",
       "      <td>3750</td>\n",
       "      <td>4450</td>\n",
       "      <td>St.Gallen</td>\n",
       "      <td>3550</td>\n",
       "      <td>5400</td>\n",
       "      <td>23.0</td>\n",
       "      <td>15.0</td>\n",
       "      <td>18.0</td>\n",
       "      <td>1850</td>\n",
       "      <td>-8.0</td>\n",
       "      <td>700</td>\n",
       "      <td>5.0</td>\n",
       "      <td>(666.667, 912.5]</td>\n",
       "    </tr>\n",
       "    <tr>\n",
       "      <th>54</th>\n",
       "      <td>54</td>\n",
       "      <td>20.0</td>\n",
       "      <td>7.0</td>\n",
       "      <td>2006</td>\n",
       "      <td>5250</td>\n",
       "      <td>2300</td>\n",
       "      <td>Grasshoppers</td>\n",
       "      <td>2930</td>\n",
       "      <td>4380</td>\n",
       "      <td>31.0</td>\n",
       "      <td>19.0</td>\n",
       "      <td>25.0</td>\n",
       "      <td>1450</td>\n",
       "      <td>-12.0</td>\n",
       "      <td>-2950</td>\n",
       "      <td>6.0</td>\n",
       "      <td>(-3020.833, -2775.0]</td>\n",
       "    </tr>\n",
       "    <tr>\n",
       "      <th>56</th>\n",
       "      <td>56</td>\n",
       "      <td>20.0</td>\n",
       "      <td>12.0</td>\n",
       "      <td>2008</td>\n",
       "      <td>4680</td>\n",
       "      <td>4050</td>\n",
       "      <td>Grasshoppers</td>\n",
       "      <td>1800</td>\n",
       "      <td>6450</td>\n",
       "      <td>30.0</td>\n",
       "      <td>21.0</td>\n",
       "      <td>34.0</td>\n",
       "      <td>4650</td>\n",
       "      <td>-9.0</td>\n",
       "      <td>-630</td>\n",
       "      <td>-4.0</td>\n",
       "      <td>(-808.333, -562.5]</td>\n",
       "    </tr>\n",
       "    <tr>\n",
       "      <th>63</th>\n",
       "      <td>63</td>\n",
       "      <td>30.0</td>\n",
       "      <td>10.0</td>\n",
       "      <td>2015</td>\n",
       "      <td>11080</td>\n",
       "      <td>6930</td>\n",
       "      <td>Grasshoppers</td>\n",
       "      <td>5600</td>\n",
       "      <td>10000</td>\n",
       "      <td>33.0</td>\n",
       "      <td>20.0</td>\n",
       "      <td>24.0</td>\n",
       "      <td>4400</td>\n",
       "      <td>-13.0</td>\n",
       "      <td>-4150</td>\n",
       "      <td>9.0</td>\n",
       "      <td>(-4250.0, -4004.167]</td>\n",
       "    </tr>\n",
       "    <tr>\n",
       "      <th>64</th>\n",
       "      <td>64</td>\n",
       "      <td>22.0</td>\n",
       "      <td>15.0</td>\n",
       "      <td>2016</td>\n",
       "      <td>22100</td>\n",
       "      <td>7000</td>\n",
       "      <td>Grasshoppers</td>\n",
       "      <td>2850</td>\n",
       "      <td>8800</td>\n",
       "      <td>22.0</td>\n",
       "      <td>16.0</td>\n",
       "      <td>20.0</td>\n",
       "      <td>5950</td>\n",
       "      <td>-6.0</td>\n",
       "      <td>-15100</td>\n",
       "      <td>2.0</td>\n",
       "      <td>(-15312.5, -15066.667]</td>\n",
       "    </tr>\n",
       "    <tr>\n",
       "      <th>128</th>\n",
       "      <td>128</td>\n",
       "      <td>32.0</td>\n",
       "      <td>14.0</td>\n",
       "      <td>2017</td>\n",
       "      <td>8200</td>\n",
       "      <td>4250</td>\n",
       "      <td>Lausanne</td>\n",
       "      <td>4850</td>\n",
       "      <td>7630</td>\n",
       "      <td>22.0</td>\n",
       "      <td>13.0</td>\n",
       "      <td>0.0</td>\n",
       "      <td>2780</td>\n",
       "      <td>-9.0</td>\n",
       "      <td>-3950</td>\n",
       "      <td>22.0</td>\n",
       "      <td>(-4004.167, -3758.333]</td>\n",
       "    </tr>\n",
       "    <tr>\n",
       "      <th>148</th>\n",
       "      <td>148</td>\n",
       "      <td>30.0</td>\n",
       "      <td>8.0</td>\n",
       "      <td>2012</td>\n",
       "      <td>6000</td>\n",
       "      <td>9500</td>\n",
       "      <td>Sion</td>\n",
       "      <td>2800</td>\n",
       "      <td>6150</td>\n",
       "      <td>32.0</td>\n",
       "      <td>16.0</td>\n",
       "      <td>24.0</td>\n",
       "      <td>3350</td>\n",
       "      <td>-16.0</td>\n",
       "      <td>3500</td>\n",
       "      <td>8.0</td>\n",
       "      <td>(3370.833, 3616.667]</td>\n",
       "    </tr>\n",
       "  </tbody>\n",
       "</table>\n",
       "</div>"
      ],
      "text/plain": [
       "     Unnamed: 0  Anzahlsommertransfers  Anzahlwintertransfers  Saison  \\\n",
       "34           34                   19.0                    7.0    2012   \n",
       "37           37                   20.0                   15.0    2015   \n",
       "54           54                   20.0                    7.0    2006   \n",
       "56           56                   20.0                   12.0    2008   \n",
       "63           63                   30.0                   10.0    2015   \n",
       "64           64                   22.0                   15.0    2016   \n",
       "128         128                   32.0                   14.0    2017   \n",
       "148         148                   30.0                    8.0    2012   \n",
       "\n",
       "     Sommeraus  Sommerein          Team  Winteraus  Winterein  \\\n",
       "34        1980       2300     St.Gallen        950       2000   \n",
       "37        3750       4450     St.Gallen       3550       5400   \n",
       "54        5250       2300  Grasshoppers       2930       4380   \n",
       "56        4680       4050  Grasshoppers       1800       6450   \n",
       "63       11080       6930  Grasshoppers       5600      10000   \n",
       "64       22100       7000  Grasshoppers       2850       8800   \n",
       "128       8200       4250      Lausanne       4850       7630   \n",
       "148       6000       9500          Sion       2800       6150   \n",
       "\n",
       "     Hinrundenpunkte  Rückrundenpunkte  vorherige_rückrundenpunkte  \\\n",
       "34              33.0              26.0                         0.0   \n",
       "37              23.0              15.0                        18.0   \n",
       "54              31.0              19.0                        25.0   \n",
       "56              30.0              21.0                        34.0   \n",
       "63              33.0              20.0                        24.0   \n",
       "64              22.0              16.0                        20.0   \n",
       "128             22.0              13.0                         0.0   \n",
       "148             32.0              16.0                        24.0   \n",
       "\n",
       "     winterzuwachs  Punktezuwachs  Sommerzuwachs  Punktezuwachs_Sommer  \\\n",
       "34            1050           -7.0            320                  33.0   \n",
       "37            1850           -8.0            700                   5.0   \n",
       "54            1450          -12.0          -2950                   6.0   \n",
       "56            4650           -9.0           -630                  -4.0   \n",
       "63            4400          -13.0          -4150                   9.0   \n",
       "64            5950           -6.0         -15100                   2.0   \n",
       "128           2780           -9.0          -3950                  22.0   \n",
       "148           3350          -16.0           3500                   8.0   \n",
       "\n",
       "              wertkategorie  \n",
       "34         (175.0, 420.833]  \n",
       "37         (666.667, 912.5]  \n",
       "54     (-3020.833, -2775.0]  \n",
       "56       (-808.333, -562.5]  \n",
       "63     (-4250.0, -4004.167]  \n",
       "64   (-15312.5, -15066.667]  \n",
       "128  (-4004.167, -3758.333]  \n",
       "148    (3370.833, 3616.667]  "
      ]
     },
     "execution_count": 219,
     "metadata": {},
     "output_type": "execute_result"
    }
   ],
   "source": [
    "dft[(dft[\"Punktezuwachs\"] < -5) & (dft[\"winterzuwachs\"] > 1000)]"
   ]
  },
  {
   "cell_type": "markdown",
   "metadata": {},
   "source": [
    "## Wo liegen die einzelnen Teams auf einem Scatterplot?"
   ]
  },
  {
   "cell_type": "code",
   "execution_count": 221,
   "metadata": {},
   "outputs": [
    {
     "data": {
      "text/plain": [
       "<matplotlib.axes._subplots.AxesSubplot at 0x1247ba160>"
      ]
     },
     "execution_count": 221,
     "metadata": {},
     "output_type": "execute_result"
    },
    {
     "data": {
      "image/png": "[encoded data removed]",
      "text/plain": [
       "<Figure size 1080x720 with 1 Axes>"
      ]
     },
     "metadata": {
      "needs_background": "light"
     },
     "output_type": "display_data"
    }
   ],
   "source": [
    "teamcolor = {'Basel': \"red\", \"YB\": 'yellow', 'St.Gallen' : \"green\", \"Luzern\" : \"black\", \"Grasshoppers\" : \"blue\",\"Thun\" : \"red\",\n",
    "            \"Sion\" : \"brown\", \"Zürich\" : \"cyan\", \"Lugano\" : \"black\", \"Xamax\" : \"magenta\"}\n",
    "dfts.plot(x='winterzuwachs', y='Punktezuwachs', kind='scatter', figsize=(15,10),\n",
    "       color=[teamcolor.get(Basel) for Basel in dfts.Team])\n",
    "    \n",
    "    "
   ]
  },
  {
   "cell_type": "markdown",
   "metadata": {},
   "source": [
    "Auch hier das Fazit: GC und FCSG haben die schwächste Bilanz\n",
    "\n",
    "Diese Bilanz rechne ich nun noch genauer aus. Hier rechne ich den durchschnittlichen Punktezuwachs bzw -rückgang von Hin- zu Rückrunde aller Super-League-Teams aus (seit der Saison 2005/06) sowie den Median des Teamwertezuwachses - bzw. -rückgangs der Teams im Winter. Diese Daten verwende ich später in der Tagblatt-Printausgabe für eine Grafik."
   ]
  },
  {
   "cell_type": "code",
   "execution_count": 222,
   "metadata": {},
   "outputs": [
    {
     "name": "stdout",
     "output_type": "stream",
     "text": [
      "Basel : -1750.0 : -3.0\n",
      "Yverdon : -1000.0 : -10.0\n",
      "YB : 100.0 : 0.0\n",
      "Bellinzona : 580.0 : -5.0\n",
      "Schaffhausen : 190.0 : -2.0\n",
      "St.Gallen : 1000.0 : -4.0\n",
      "Xamax : 500.0 : -3.0\n",
      "Servette : 50.0 : 4.0\n",
      "Thun : -450.0 : 1.0\n",
      "Wil : nan : nan\n",
      "Grasshoppers : 170.0 : -5.0\n",
      "Lugano : 330.0 : 4.0\n",
      "Luzern : -475.0 : 1.0\n",
      "Aarau : -325.0 : 2.0\n",
      "Zürich : -775.0 : -0.5\n",
      "Sion : -840.0 : -0.5\n",
      "Vaduz : 0.0 : -3.5\n",
      "Lausanne : 800.0 : 0.5\n"
     ]
    }
   ],
   "source": [
    "for team in teamliste: \n",
    "    print(team + \" : \" + str(dft[dft[\"Team\"] == team][\"winterzuwachs\"].median()) + \" : \" + str(dft[dft[\"Team\"] == team][\"Punktezuwachs\"].median()))\n",
    "     \n",
    "    "
   ]
  },
  {
   "cell_type": "markdown",
   "metadata": {},
   "source": [
    "## Berechnungen für Haupt-Infografik\n",
    "Nun schaue ich, in welchen Transferwert-Bereichen wie viele Teams an Punkten gewannen/verloren: Das ist letztlich die Grundlage für die Hauptgrafik im Artikel."
   ]
  },
  {
   "cell_type": "code",
   "execution_count": 82,
   "metadata": {},
   "outputs": [
    {
     "name": "stdout",
     "output_type": "stream",
     "text": [
      "Anzahl bessere Teams in dieser Transferwert-Bandbreite: 3\n",
      "Anzahl schlechtere Teams in dieser Transferwert-Bandbreite: 7\n",
      "In Prozent: 30.0 zu 70.0\n"
     ]
    }
   ],
   "source": [
    "# Transferbereich bis -3500 Tsd. Euro\n",
    "bessereteams = dft[(dft[\"winterzuwachs\"] < -3500) & (dft[\"Punktezuwachs\"] >= 0)][\"Punktezuwachs\"].size\n",
    "schlechtereteams = dft[(dft[\"winterzuwachs\"] < -3500) & (dft[\"Punktezuwachs\"] <= 0)][\"Punktezuwachs\"].size\n",
    "inprozentbesser = 100/(bessereteams+schlechtereteams)*bessereteams\n",
    "inprozentschlechter = 100 - inprozentbesser\n",
    "\n",
    "print(\"Anzahl bessere Teams in dieser Transferwert-Bandbreite: \" + str(bessereteams))\n",
    "print(\"Anzahl schlechtere Teams in dieser Transferwert-Bandbreite: \" + str(schlechtereteams))\n",
    "print(\"In Prozent: \" + str(inprozentbesser) + \" zu \" + str(inprozentschlechter))"
   ]
  },
  {
   "cell_type": "code",
   "execution_count": 81,
   "metadata": {},
   "outputs": [
    {
     "name": "stdout",
     "output_type": "stream",
     "text": [
      "Anzahl bessere Teams in dieser Transferwert-Bandbreite: 6\n",
      "Anzahl schlechtere Teams in dieser Transferwert-Bandbreite: 3\n",
      "In Prozent: 66.66666666666666 zu 33.33333333333334\n"
     ]
    }
   ],
   "source": [
    "# Transferbereich -3500 bis -2000 Tsd. Euro\n",
    "bessereteams = dft[(dft[\"winterzuwachs\"] >= -3500) & (dft[\"winterzuwachs\"] < -2000) & (dft[\"Punktezuwachs\"] >= 0)][\"Punktezuwachs\"].size\n",
    "schlechtereteams = dft[(dft[\"winterzuwachs\"] >= -3500) & (dft[\"winterzuwachs\"] < -2000) & (dft[\"Punktezuwachs\"] <= 0)][\"Punktezuwachs\"].size\n",
    "inprozentbesser = 100/(bessereteams+schlechtereteams)*bessereteams\n",
    "inprozentschlechter = 100 - inprozentbesser\n",
    "\n",
    "print(\"Anzahl bessere Teams in dieser Transferwert-Bandbreite: \" + str(bessereteams))\n",
    "print(\"Anzahl schlechtere Teams in dieser Transferwert-Bandbreite: \" + str(schlechtereteams))\n",
    "print(\"In Prozent: \" + str(inprozentbesser) + \" zu \" + str(inprozentschlechter))"
   ]
  },
  {
   "cell_type": "code",
   "execution_count": 80,
   "metadata": {},
   "outputs": [
    {
     "name": "stdout",
     "output_type": "stream",
     "text": [
      "Anzahl bessere Teams in dieser Transferwert-Bandbreite: 6\n",
      "Anzahl schlechtere Teams in dieser Transferwert-Bandbreite: 8\n",
      "In Prozent: 42.85714285714286 zu 57.14285714285714\n"
     ]
    }
   ],
   "source": [
    "# Transferbereich -2000 bis -1000 Tsd. Euro\n",
    "bessereteams = dft[(dft[\"winterzuwachs\"] >= -2000) & (dft[\"winterzuwachs\"] < -1000) & (dft[\"Punktezuwachs\"] > 0)][\"Punktezuwachs\"].size\n",
    "schlechtereteams = dft[(dft[\"winterzuwachs\"] >= -2000) & (dft[\"winterzuwachs\"] < -1000) & (dft[\"Punktezuwachs\"] <= 0)][\"Punktezuwachs\"].size\n",
    "inprozentbesser = 100/(bessereteams+schlechtereteams)*bessereteams\n",
    "inprozentschlechter = 100 - inprozentbesser\n",
    "\n",
    "print(\"Anzahl bessere Teams in dieser Transferwert-Bandbreite: \" + str(bessereteams))\n",
    "print(\"Anzahl schlechtere Teams in dieser Transferwert-Bandbreite: \" + str(schlechtereteams))\n",
    "print(\"In Prozent: \" + str(inprozentbesser) + \" zu \" + str(inprozentschlechter))"
   ]
  },
  {
   "cell_type": "code",
   "execution_count": 83,
   "metadata": {},
   "outputs": [
    {
     "name": "stdout",
     "output_type": "stream",
     "text": [
      "Anzahl bessere Teams in dieser Transferwert-Bandbreite: 18\n",
      "Anzahl schlechtere Teams in dieser Transferwert-Bandbreite: 17\n",
      "In Prozent: 51.42857142857143 zu 48.57142857142857\n"
     ]
    }
   ],
   "source": [
    "# Transferbereich -1000 bis 0 Tsd. Euro\n",
    "bessereteams = dft[(dft[\"winterzuwachs\"] >= -1000) & (dft[\"winterzuwachs\"] < 0) & (dft[\"Punktezuwachs\"] > 0)][\"Punktezuwachs\"].size\n",
    "schlechtereteams = dft[(dft[\"winterzuwachs\"] >= -1000) & (dft[\"winterzuwachs\"] < 0) & (dft[\"Punktezuwachs\"] <= 0)][\"Punktezuwachs\"].size\n",
    "inprozentbesser = 100/(bessereteams+schlechtereteams)*bessereteams\n",
    "inprozentschlechter = 100 - inprozentbesser\n",
    "\n",
    "print(\"Anzahl bessere Teams in dieser Transferwert-Bandbreite: \" + str(bessereteams))\n",
    "print(\"Anzahl schlechtere Teams in dieser Transferwert-Bandbreite: \" + str(schlechtereteams))\n",
    "print(\"In Prozent: \" + str(inprozentbesser) + \" zu \" + str(inprozentschlechter))"
   ]
  },
  {
   "cell_type": "code",
   "execution_count": 47,
   "metadata": {},
   "outputs": [
    {
     "name": "stdout",
     "output_type": "stream",
     "text": [
      "Anzahl bessere Teams in dieser Transferwert-Bandbreite: 14\n",
      "Anzahl schlechtere Teams in dieser Transferwert-Bandbreite: 18\n",
      "In Prozent: 43.75 zu 56.25\n"
     ]
    }
   ],
   "source": [
    "# Transferbereich 0 bis 999 Tsd. Euro\n",
    "bessereteams = dft[(dft[\"winterzuwachs\"] >= 0) & (dft[\"winterzuwachs\"] < 1000) & (dft[\"Punktezuwachs\"] > 0)][\"Punktezuwachs\"].size\n",
    "schlechtereteams = dft[(dft[\"winterzuwachs\"] >= 0) & (dft[\"winterzuwachs\"] < 1000) & (dft[\"Punktezuwachs\"] <= 0)][\"Punktezuwachs\"].size\n",
    "inprozentbesser = 100/(bessereteams+schlechtereteams)*bessereteams\n",
    "inprozentschlechter = 100 - inprozentbesser\n",
    "\n",
    "print(\"Anzahl bessere Teams in dieser Transferwert-Bandbreite: \" + str(bessereteams))\n",
    "print(\"Anzahl schlechtere Teams in dieser Transferwert-Bandbreite: \" + str(schlechtereteams))\n",
    "print(\"In Prozent: \" + str(inprozentbesser) + \" zu \" + str(inprozentschlechter))"
   ]
  },
  {
   "cell_type": "code",
   "execution_count": 54,
   "metadata": {},
   "outputs": [
    {
     "name": "stdout",
     "output_type": "stream",
     "text": [
      "Anzahl bessere Teams in dieser Transferwert-Bandbreite: 5\n",
      "Anzahl schlechtere Teams in dieser Transferwert-Bandbreite: 10\n",
      "In Prozent: 33.333333333333336 zu 66.66666666666666\n"
     ]
    }
   ],
   "source": [
    "# Transferbereich 1000 - 1999\n",
    "bessereteams = dft[(dft[\"winterzuwachs\"] >= 1000) & (dft[\"winterzuwachs\"] < 2000) & (dft[\"Punktezuwachs\"] > 0)][\"Punktezuwachs\"].size\n",
    "schlechtereteams = dft[(dft[\"winterzuwachs\"] >= 1000) & (dft[\"winterzuwachs\"] < 2000) & (dft[\"Punktezuwachs\"] <= 0)][\"Punktezuwachs\"].size\n",
    "inprozentbesser = 100/(bessereteams+schlechtereteams)*bessereteams\n",
    "inprozentschlechter = 100 - inprozentbesser\n",
    "\n",
    "print(\"Anzahl bessere Teams in dieser Transferwert-Bandbreite: \" + str(bessereteams))\n",
    "print(\"Anzahl schlechtere Teams in dieser Transferwert-Bandbreite: \" + str(schlechtereteams))\n",
    "print(\"In Prozent: \" + str(inprozentbesser) + \" zu \" + str(inprozentschlechter))\n"
   ]
  },
  {
   "cell_type": "code",
   "execution_count": 53,
   "metadata": {},
   "outputs": [
    {
     "name": "stdout",
     "output_type": "stream",
     "text": [
      "Anzahl bessere Teams in dieser Transferwert-Bandbreite: 3\n",
      "Anzahl schlechtere Teams in dieser Transferwert-Bandbreite: 5\n",
      "In Prozent: 37.5 zu 62.5\n"
     ]
    }
   ],
   "source": [
    "# Transferbereich 2000 - 3499\n",
    "bessereteams = dft[(dft[\"winterzuwachs\"] >= 2000) & (dft[\"winterzuwachs\"] < 3500) & (dft[\"Punktezuwachs\"] > 0)][\"Punktezuwachs\"].size\n",
    "schlechtereteams = dft[(dft[\"winterzuwachs\"] >= 2000) & (dft[\"winterzuwachs\"] < 3500) & (dft[\"Punktezuwachs\"] <= 0)][\"Punktezuwachs\"].size\n",
    "inprozentbesser = 100/(bessereteams+schlechtereteams)*bessereteams\n",
    "inprozentschlechter = 100 - inprozentbesser\n",
    "\n",
    "print(\"Anzahl bessere Teams in dieser Transferwert-Bandbreite: \" + str(bessereteams))\n",
    "print(\"Anzahl schlechtere Teams in dieser Transferwert-Bandbreite: \" + str(schlechtereteams))\n",
    "print(\"In Prozent: \" + str(inprozentbesser) + \" zu \" + str(inprozentschlechter))"
   ]
  },
  {
   "cell_type": "code",
   "execution_count": 55,
   "metadata": {},
   "outputs": [
    {
     "name": "stdout",
     "output_type": "stream",
     "text": [
      "Anzahl bessere Teams in dieser Transferwert-Bandbreite: 1\n",
      "Anzahl schlechtere Teams in dieser Transferwert-Bandbreite: 4\n",
      "In Prozent: 20.0 zu 80.0\n"
     ]
    }
   ],
   "source": [
    "# Transferbereich ab 3500\n",
    "bessereteams = dft[(dft[\"winterzuwachs\"] >= 3500) & (dft[\"Punktezuwachs\"] > 0)][\"Punktezuwachs\"].size\n",
    "schlechtereteams = dft[(dft[\"winterzuwachs\"] >= 3500) & (dft[\"Punktezuwachs\"] <= 0)][\"Punktezuwachs\"].size\n",
    "inprozentbesser = 100/(bessereteams+schlechtereteams)*bessereteams\n",
    "inprozentschlechter = 100 - inprozentbesser\n",
    "\n",
    "print(\"Anzahl bessere Teams in dieser Transferwert-Bandbreite: \" + str(bessereteams))\n",
    "print(\"Anzahl schlechtere Teams in dieser Transferwert-Bandbreite: \" + str(schlechtereteams))\n",
    "print(\"In Prozent: \" + str(inprozentbesser) + \" zu \" + str(inprozentschlechter))"
   ]
  },
  {
   "cell_type": "markdown",
   "metadata": {},
   "source": [
    "PS: Gewisse kleinere Abweichungen von der Hauptinfografik im publizierten Artikel ergeben sich bei den Prozentzahlen, da ich in einer ersten Code-Fassung nur jene Teams berücksichtigt hatte, die in der Super-League mindestens vier Saisons spielten. Hauptaussage bleibt sich aber gleich."
   ]
  }
 ],
 "metadata": {
  "kernelspec": {
   "display_name": "Python 3",
   "language": "python",
   "name": "python3"
  },
  "language_info": {
   "codemirror_mode": {
    "name": "ipython",
    "version": 3
   },
   "file_extension": ".py",
   "mimetype": "text/x-python",
   "name": "python",
   "nbconvert_exporter": "python",
   "pygments_lexer": "ipython3",
   "version": "3.7.0"
  }
 },
 "nbformat": 4,
 "nbformat_minor": 2
}
